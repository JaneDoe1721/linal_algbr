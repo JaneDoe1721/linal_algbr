{
 "cells": [
  {
   "cell_type": "code",
   "execution_count": 1,
   "metadata": {},
   "outputs": [],
   "source": [
    "import numpy as np\n"
   ]
  },
  {
   "cell_type": "code",
   "execution_count": 11,
   "metadata": {},
   "outputs": [
    {
     "data": {
      "text/plain": [
       "33"
      ]
     },
     "execution_count": 11,
     "metadata": {},
     "output_type": "execute_result"
    }
   ],
   "source": [
    "#№1 Найти скалярное произведение векторов 𝑥,𝑦∈ℝ:\n",
    "x = np.array([0,-3,6])\n",
    "y = np.array([-4,7,9])\n",
    "x_y = np.dot(x,y)\n",
    "x_y"
   ]
  },
  {
   "cell_type": "code",
   "execution_count": 4,
   "metadata": {},
   "outputs": [
    {
     "name": "stdout",
     "output_type": "stream",
     "text": [
      "-23\n"
     ]
    }
   ],
   "source": [
    "a = np.array([7,-4,0,1])\n",
    "b = np.array([-3, 1, 11, 2])\n",
    "a_b = np.dot(a, b)\n",
    "print(a_b)"
   ]
  },
  {
   "cell_type": "code",
   "execution_count": 12,
   "metadata": {},
   "outputs": [
    {
     "name": "stdout",
     "output_type": "stream",
     "text": [
      "Норма первого вектора: 6.0\n",
      "Норма второго вектора: 13.0\n",
      "Угол между ними: 0.8974358974358975\n"
     ]
    }
   ],
   "source": [
    "#№2 Найти нормы векторов (4,2,4) и (12,3,4) и угол между ними.\n",
    "v_1 = np.array([4,2,4])\n",
    "v_2 = np.array([12,3,4])\n",
    "print(f'Норма первого вектора: {np.linalg.norm(v_1, ord=2)}')\n",
    "print(f'Норма второго вектора: {np.linalg.norm(v_2, ord=2)}')\n",
    "print(f'Угол между ними: {np.dot(v_1,v_2) / (np.linalg.norm(v_1, ord=2) * np.linalg.norm(v_2, ord=2))}')"
   ]
  },
  {
   "cell_type": "code",
   "execution_count": null,
   "metadata": {},
   "outputs": [],
   "source": []
  }
 ],
 "metadata": {
  "kernelspec": {
   "display_name": "Python 3",
   "language": "python",
   "name": "python3"
  },
  "language_info": {
   "codemirror_mode": {
    "name": "ipython",
    "version": 3
   },
   "file_extension": ".py",
   "mimetype": "text/x-python",
   "name": "python",
   "nbconvert_exporter": "python",
   "pygments_lexer": "ipython3",
   "version": "3.8.3"
  }
 },
 "nbformat": 4,
 "nbformat_minor": 4
}
