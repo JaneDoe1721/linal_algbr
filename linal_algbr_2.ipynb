{
 "cells": [
  {
   "cell_type": "code",
   "execution_count": 1,
   "metadata": {},
   "outputs": [],
   "source": [
    "import numpy as np\n"
   ]
  },
  {
   "cell_type": "code",
   "execution_count": 4,
   "metadata": {},
   "outputs": [
    {
     "name": "stdout",
     "output_type": "stream",
     "text": [
      "Матрица A\n",
      "[[ 1 -2]\n",
      " [ 3  0]]\n",
      "\n",
      "Матрица B\n",
      "[[ 4 -1]\n",
      " [ 0  5]]\n",
      "\n",
      "Сумма матриц A и B\n",
      "[[ 5 -3]\n",
      " [ 3  5]]\n",
      "\n",
      "Произведение матриц A и B\n",
      "[[  4 -11]\n",
      " [ 12  -3]]\n",
      "\n"
     ]
    }
   ],
   "source": [
    "# №2\n",
    "a = np.array([[1,-2], [3,0]])\n",
    "b = np.array([[4,-1], [0, 5]])\n",
    "print(f'Матрица A\\n{a}\\n')\n",
    "print(f'Матрица B\\n{b}\\n')\n",
    "print(f'Сумма матриц A и B\\n{a + b}\\n')\n",
    "print(f'Произведение матриц A и B\\n{np.dot(a, b)}\\n')"
   ]
  },
  {
   "cell_type": "code",
   "execution_count": 8,
   "metadata": {},
   "outputs": [
    {
     "name": "stdout",
     "output_type": "stream",
     "text": [
      "Матрица A\n",
      "[[ 1  7]\n",
      " [ 3 -6]]\n",
      "\n",
      "Матрица B\n",
      "[[ 0  5]\n",
      " [ 2 -1]]\n",
      "\n",
      "Матрица B\n",
      "[[ 2 -4]\n",
      " [ 1  1]]\n",
      "\n",
      "Вычислим линейную комбинацию :\n",
      "[[ 11  -5]\n",
      " [  9 -12]]\n",
      "\n"
     ]
    }
   ],
   "source": [
    "# №3\n",
    "# 3A-2B+4C\n",
    "a = np.array([[1,7],[3,-6]])\n",
    "b = np.array([[0, 5], [2, -1]])\n",
    "c = np.array([[2,-4], [1, 1]])\n",
    "\n",
    "print(f'Матрица A\\n{a}\\n')\n",
    "print(f'Матрица B\\n{b}\\n')\n",
    "print(f'Матрица B\\n{c}\\n')\n",
    "\n",
    "print(f'Вычислим линейную комбинацию :\\n{3*a-2*b+4*c}\\n')"
   ]
  },
  {
   "cell_type": "code",
   "execution_count": 13,
   "metadata": {},
   "outputs": [
    {
     "name": "stdout",
     "output_type": "stream",
     "text": [
      "Матрица A\n",
      "[[ 4  1]\n",
      " [ 5 -2]\n",
      " [ 2  3]]\n",
      "\n",
      "Матрица B\n",
      "[[ 4  5  2]\n",
      " [ 1 -2  3]]\n",
      "\n",
      "Произведение A At: \n",
      "[[17 18 11]\n",
      " [18 29  4]\n",
      " [11  4 13]]\n",
      "Произведение At A: \n",
      "[[45  0]\n",
      " [ 0 14]]\n"
     ]
    }
   ],
   "source": [
    "# №4\n",
    "a = np.array([[4,1], [5,-2], [2, 3]])\n",
    "a_t = np.transpose(a)\n",
    "\n",
    "print(f'Матрица A\\n{a}\\n')\n",
    "print(f'Матрица B\\n{a_t}\\n')\n",
    "print(f'Произведение A At: \\n{np.dot(a,a_t)}')\n",
    "print(f'Произведение At A: \\n{np.dot(a_t,a)}')"
   ]
  },
  {
   "cell_type": "code",
   "execution_count": 34,
   "metadata": {},
   "outputs": [
    {
     "data": {
      "text/plain": [
       "[[17, 18, 11], [18, 29, 4], [11, 4, 13]]"
      ]
     },
     "execution_count": 34,
     "metadata": {},
     "output_type": "execute_result"
    }
   ],
   "source": [
    "# №5 Написать на Python функцию для перемножения двух произвольных матриц, не используя NumPy.\n",
    "\n",
    "def multiplication(a,b):\n",
    "    summ = 0     # сумма\n",
    "    time = []    # временная матрица\n",
    "    c = []       # конечная матрица\n",
    "    if len(a[0]) != len(b):\n",
    "        print('Матрицы несовместимы!')\n",
    "    else:\n",
    "        for z in range(0, len(a)):\n",
    "            for j in range(0, len(b[0])):\n",
    "                for i in range(0, len(a[0])):\n",
    "                    summ = summ + a[z][i] * b[i][j]\n",
    "                time.append(summ)\n",
    "                summ = 0\n",
    "            c.append(time)\n",
    "            time = []\n",
    "        return c\n",
    "                    \n",
    "                    \n",
    "a = np.array([[4,1], [5,-2], [2, 3]])\n",
    "b = np.transpose(a)\n",
    "multiplication(a,b)\n",
    "    "
   ]
  },
  {
   "cell_type": "code",
   "execution_count": 36,
   "metadata": {},
   "outputs": [
    {
     "name": "stdout",
     "output_type": "stream",
     "text": [
      "180.0\n",
      "6.66133814775094e-16\n"
     ]
    }
   ],
   "source": [
    "# № 1\n",
    "\n",
    "a = np.array([[4, 2, 3], [0, 5, 1], [0, 0, 9]])\n",
    "b = np.array([[1, 2, 3], [4, 5, 6], [7, 8, 9]])\n",
    "print(f'{np.linalg.det(a)}')\n",
    "print(f'{np.linalg.det(b)}')"
   ]
  },
  {
   "cell_type": "code",
   "execution_count": 37,
   "metadata": {},
   "outputs": [
    {
     "name": "stdout",
     "output_type": "stream",
     "text": [
      "0.0\n"
     ]
    }
   ],
   "source": [
    "# №3\n",
    "\n",
    "a = np.array([[-2, 7, -3], [4, -14, 6], [-3, 7, 13]])\n",
    "print(f'{np.linalg.det(a)}')"
   ]
  },
  {
   "cell_type": "code",
   "execution_count": 39,
   "metadata": {},
   "outputs": [
    {
     "name": "stdout",
     "output_type": "stream",
     "text": [
      "2\n",
      "3\n"
     ]
    }
   ],
   "source": [
    "# №4\n",
    "\n",
    "a = np.array([[1, 2, 3], [1, 1, 1], [2, 3, 4]])\n",
    "b = np.array([[0, 0, 2, 1], [0, 0, 2, 2], [0, 0, 4, 3], [2, 3, 5, 6]])\n",
    "print(f'{np.linalg.matrix_rank(a)}')\n",
    "print(f'{np.linalg.matrix_rank(b)}')"
   ]
  },
  {
   "cell_type": "code",
   "execution_count": null,
   "metadata": {},
   "outputs": [],
   "source": []
  }
 ],
 "metadata": {
  "kernelspec": {
   "display_name": "Python 3",
   "language": "python",
   "name": "python3"
  },
  "language_info": {
   "codemirror_mode": {
    "name": "ipython",
    "version": 3
   },
   "file_extension": ".py",
   "mimetype": "text/x-python",
   "name": "python",
   "nbconvert_exporter": "python",
   "pygments_lexer": "ipython3",
   "version": "3.8.3"
  }
 },
 "nbformat": 4,
 "nbformat_minor": 4
}
